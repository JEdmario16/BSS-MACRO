{
 "cells": [
  {
   "cell_type": "code",
   "execution_count": null,
   "metadata": {},
   "outputs": [],
   "source": []
  },
  {
   "cell_type": "code",
   "execution_count": null,
   "metadata": {},
   "outputs": [],
   "source": [
    "buffs_region = (0, 30, 600, 50)\n",
    "screenshot = macro_tools.screenshot(buffs_region)\n",
    "screenshot"
   ]
  },
  {
   "cell_type": "code",
   "execution_count": null,
   "metadata": {},
   "outputs": [],
   "source": [
    "from datetime import timedelta, datetime\n",
    "\n",
    "(datetime.now() - timedelta(seconds=0)).seconds"
   ]
  },
  {
   "cell_type": "code",
   "execution_count": null,
   "metadata": {},
   "outputs": [],
   "source": []
  },
  {
   "cell_type": "code",
   "execution_count": null,
   "metadata": {},
   "outputs": [],
   "source": [
    "def MSE_between_two_images(image_1: Image.Image, image_2: Image.Image) -> float:\n",
    "\n",
    "    \"\"\"\n",
    "    Calcula o erro quadrático médio entre duas imagens\n",
    "\n",
    "    :param image_1: A primeira imagem\n",
    "    :param image_2: A segunda imagem\n",
    "    :return: O erro quadrático médio entre as duas imagens\n",
    "    \"\"\"\n",
    "\n",
    "    # Converte as imagens para arrays\n",
    "    image_1 = np.array(image_1)\n",
    "    image_2 = np.array(image_2)\n",
    "\n",
    "    # Calcula o erro quadrático médio\n",
    "    return np.square(np.subtract(image_1, image_2)).mean()"
   ]
  },
  {
   "cell_type": "code",
   "execution_count": null,
   "metadata": {},
   "outputs": [],
   "source": [
    "m"
   ]
  },
  {
   "cell_type": "code",
   "execution_count": null,
   "metadata": {},
   "outputs": [],
   "source": [
    "cfg = macro_tools.read_config()\n",
    "assets_path = cfg[\"PATHS\"][\"assets\"]\n",
    "\n",
    "bears = os.path.join(assets_path, \"tokens\\\\bear\\\\\")\n",
    "\n"
   ]
  },
  {
   "cell_type": "code",
   "execution_count": null,
   "metadata": {},
   "outputs": [],
   "source": []
  },
  {
   "cell_type": "code",
   "execution_count": null,
   "metadata": {},
   "outputs": [],
   "source": [
    "has_bear = 0\n",
    "\n",
    "\n",
    "x = ((18+6*has_bear)*36.6)/18\n",
    "x"
   ]
  },
  {
   "cell_type": "code",
   "execution_count": null,
   "metadata": {},
   "outputs": [],
   "source": []
  },
  {
   "cell_type": "code",
   "execution_count": null,
   "metadata": {},
   "outputs": [],
   "source": [
    "sc"
   ]
  },
  {
   "cell_type": "code",
   "execution_count": null,
   "metadata": {},
   "outputs": [],
   "source": []
  }
 ],
 "metadata": {
  "kernelspec": {
   "display_name": "env",
   "language": "python",
   "name": "python3"
  },
  "language_info": {
   "codemirror_mode": {
    "name": "ipython",
    "version": 3
   },
   "file_extension": ".py",
   "mimetype": "text/x-python",
   "name": "python",
   "nbconvert_exporter": "python",
   "pygments_lexer": "ipython3",
   "version": "3.10.6"
  },
  "orig_nbformat": 4,
  "vscode": {
   "interpreter": {
    "hash": "71a8b2ad9a3e829627a9b9ca887db7b96b5b9ea55540f8adb0d45356dc51c51d"
   }
  }
 },
 "nbformat": 4,
 "nbformat_minor": 2
}
