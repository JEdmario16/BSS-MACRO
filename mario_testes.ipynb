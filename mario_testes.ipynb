{
 "cells": [
  {
   "cell_type": "code",
   "execution_count": 1,
   "metadata": {},
   "outputs": [],
   "source": [
    "from libs import macro_tools, move_lib\n",
    "from foreground_threads.speed_tracker import SpeedTracker\n",
    "from farm_patterns import square_farm\n",
    "import threading\n",
    "from time import sleep\n",
    "import keyboard\n",
    "import win32gui\n",
    "import win32ui\n",
    "import win32con\n",
    "import numpy\n",
    "\n",
    "import numpy, cv2\n",
    "from PIL import Image\n",
    "import os\n",
    "from typing import Optional\n",
    "import pyautogui\n",
    "from main import Application"
   ]
  },
  {
   "cell_type": "code",
   "execution_count": null,
   "metadata": {},
   "outputs": [],
   "source": [
    "macro_tools.get_roblox_window().size[0]"
   ]
  },
  {
   "cell_type": "code",
   "execution_count": 2,
   "metadata": {},
   "outputs": [],
   "source": [
    "app = Application()"
   ]
  },
  {
   "cell_type": "code",
   "execution_count": null,
   "metadata": {},
   "outputs": [
    {
     "name": "stdout",
     "output_type": "stream",
     "text": [
      "Speed tracker started\n"
     ]
    },
    {
     "name": "stderr",
     "output_type": "stream",
     "text": [
      "Exception in thread Thread-3:\n",
      "Traceback (most recent call last):\n",
      "  File \"C:\\Users\\jedma\\AppData\\Local\\Programs\\Python\\Python310\\lib\\threading.py\", line 1016, in _bootstrap_inner\n"
     ]
    },
    {
     "name": "stderr",
     "output_type": "stream",
     "text": [
      "    self.run()\n",
      "  File \"c:\\Users\\jedma\\OneDrive\\Área de Trabalho\\dev\\Personal Projects\\BSS-MACRO\\main.py\", line 40, in run\n",
      "    self.autoclicker.start()\n",
      "AttributeError: 'Application' object has no attribute 'autoclicker'\n"
     ]
    }
   ],
   "source": [
    "app.start()"
   ]
  },
  {
   "cell_type": "code",
   "execution_count": null,
   "metadata": {},
   "outputs": [],
   "source": []
  }
 ],
 "metadata": {
  "kernelspec": {
   "display_name": "env",
   "language": "python",
   "name": "python3"
  },
  "language_info": {
   "codemirror_mode": {
    "name": "ipython",
    "version": 3
   },
   "file_extension": ".py",
   "mimetype": "text/x-python",
   "name": "python",
   "nbconvert_exporter": "python",
   "pygments_lexer": "ipython3",
   "version": "3.10.9"
  },
  "orig_nbformat": 4,
  "vscode": {
   "interpreter": {
    "hash": "aa9452528eed796f4cca3c7f02e85321280eb10a1d0525c622a4239718a94222"
   }
  }
 },
 "nbformat": 4,
 "nbformat_minor": 2
}
